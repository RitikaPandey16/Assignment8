{
 "cells": [
  {
   "cell_type": "code",
   "execution_count": 5,
   "id": "3aacc9e0-89ca-4b8b-8e0a-83ca1d105362",
   "metadata": {},
   "outputs": [
    {
     "name": "stdin",
     "output_type": "stream",
     "text": [
      "Enter your password:  Abcderf12345\n"
     ]
    },
    {
     "name": "stdout",
     "output_type": "stream",
     "text": [
      "Invalid Password\n"
     ]
    }
   ],
   "source": [
    "#Q1. You are writing code for a company. The requirement of the company is that you create a python\n",
    "#function that will check whether the password entered by the user is correct or not. The function should\n",
    "#take the password as input and return the string “Valid Password” if the entered password follows the\n",
    "#below-given password guidelines else it should return “Invalid Password”.\n",
    "#Note: 1. The Password should contain at least two uppercase letters and at least two lowercase letters.\n",
    "#2. The Password should contain at least a number and three special characters.\n",
    "#3. The length of the password should be 10 characters long.\n",
    "import re\n",
    "\n",
    "def validate_password():\n",
    "    # Take password input from the user\n",
    "    password = input(\"Enter your password: \")\n",
    "    \n",
    "    # Check if the password length is 10 characters\n",
    "    if len(password) != 10:\n",
    "        return \"Invalid Password\"\n",
    "    \n",
    "    # Check for at least two uppercase letters\n",
    "    if len(re.findall(r'[A-Z]', password)) < 2:\n",
    "        return \"Invalid Password\"\n",
    "    \n",
    "    # Check for at least two lowercase letters\n",
    "    if len(re.findall(r'[a-z]', password)) < 2:\n",
    "        return \"Invalid Password\"\n",
    "    \n",
    "    # Check for at least one digit\n",
    "    if len(re.findall(r'[0-9]', password)) < 1:\n",
    "        return \"Invalid Password\"\n",
    "    \n",
    "    # Check for at least three special characters\n",
    "    if len(re.findall(r'[^A-Za-z0-9]', password)) < 3:\n",
    "        return \"Invalid Password\"\n",
    "    \n",
    "    # If all conditions are met\n",
    "    return \"Valid Password\"\n",
    "    \n",
    "# Calling the function to check the password\n",
    "print(validate_password())\n"
   ]
  },
  {
   "cell_type": "code",
   "execution_count": 7,
   "id": "88aae126-c7bc-4908-bbf9-ccd54f641ffd",
   "metadata": {},
   "outputs": [
    {
     "name": "stdout",
     "output_type": "stream",
     "text": [
      "True\n",
      "False\n",
      "True\n",
      "False\n",
      "[('orange', 80), ('mango', 99), ('grapes', 1000)]\n",
      "[1, 4, 9, 16, 25, 36, 49, 64, 81, 100]\n",
      "[1.0, 1.2599210498948732, 1.4422495703074083, 1.5874010519681994, 1.7099759466766968, 1.8171205928321397, 1.912931182772389, 2.0, 2.080083823051904, 2.154434690031884]\n",
      "True\n",
      "False\n",
      "[1, 3, 5, 7, 9]\n",
      "Positive numbers: [1, 2, 3, 4, 5, 6]\n",
      "Negative numbers: [-1, -2, -3, -4, -5]\n"
     ]
    }
   ],
   "source": [
    "#Q2.Solve the below-given questions using at least one of the following:\n",
    "#1. Lambda function\n",
    "#2. Filter function\n",
    "#3. Map function\n",
    "#4. List ComprehensioI\n",
    "# Check if the string starts with a particular letterY\n",
    "# Check if the string is numericY\n",
    "# Sort a list of tuples having fruit names and their quantity. [(\"mango\",99),(\"orange\",80), (\"grapes\", 1000)-\n",
    "# Find the squares of numbers from 1 to 10Y\n",
    "# Find the cube root of numbers from 1 to 10Y\n",
    "# Check if a given number is evenY\n",
    "# Filter odd numbers from the given list.\n",
    "#[1,2,3,4,5,6,7,8,9,10-\n",
    "# Sort a list of integers into positive and negative integers lists.\n",
    "#[1,2,3,4,5,6,-1,-2,-3,-4,-5,0]\n",
    "#  Check if the string starts with a particular letter\n",
    "check_start = lambda s, letter: s.startswith(letter)\n",
    "print(check_start(\"apple\", \"a\"))  # True\n",
    "print(check_start(\"banana\", \"a\"))  # False\n",
    "\n",
    "#  Check if the string is numeric\n",
    "check_numeric = lambda s: s.isdigit()\n",
    "print(check_numeric(\"12345\"))  # True\n",
    "print(check_numeric(\"abc123\"))  # False\n",
    "\n",
    "#  Sort a list of tuples having fruit names and their quantity\n",
    "fruits = [(\"mango\", 99), (\"orange\", 80), (\"grapes\", 1000)]\n",
    "fruits_sorted = sorted(fruits, key=lambda x: x[1])\n",
    "print(fruits_sorted)\n",
    "\n",
    "#  Find the squares of numbers from 1 to 10\n",
    "squares = list(map(lambda x: x**2, range(1, 11)))\n",
    "print(squares)\n",
    "\n",
    "#  Find the cube root of numbers from 1 to 10\n",
    "cube_roots = [x**(1/3) for x in range(1, 11)]\n",
    "print(cube_roots)\n",
    "\n",
    "#  Check if a given number is even\n",
    "is_even = lambda x: x % 2 == 0\n",
    "print(is_even(4))  # True\n",
    "print(is_even(7))  # False\n",
    "\n",
    "#  Filter odd numbers from the given list\n",
    "numbers = [1, 2, 3, 4, 5, 6, 7, 8, 9, 10]\n",
    "odd_numbers = list(filter(lambda x: x % 2 != 0, numbers))\n",
    "print(odd_numbers)\n",
    "\n",
    "#  Sort a list of integers into positive and negative integers lists\n",
    "numbers = [1, 2, 3, 4, 5, 6, -1, -2, -3, -4, -5, 0]\n",
    "positive_numbers = [x for x in numbers if x > 0]\n",
    "negative_numbers = [x for x in numbers if x < 0]\n",
    "print(\"Positive numbers:\", positive_numbers)\n",
    "print(\"Negative numbers:\", negative_numbers)\n"
   ]
  },
  {
   "cell_type": "code",
   "execution_count": null,
   "id": "a359dfb8-c925-4e61-b6f1-28751ed68a40",
   "metadata": {},
   "outputs": [],
   "source": []
  }
 ],
 "metadata": {
  "kernelspec": {
   "display_name": "Python 3 (ipykernel)",
   "language": "python",
   "name": "python3"
  },
  "language_info": {
   "codemirror_mode": {
    "name": "ipython",
    "version": 3
   },
   "file_extension": ".py",
   "mimetype": "text/x-python",
   "name": "python",
   "nbconvert_exporter": "python",
   "pygments_lexer": "ipython3",
   "version": "3.12.4"
  }
 },
 "nbformat": 4,
 "nbformat_minor": 5
}
